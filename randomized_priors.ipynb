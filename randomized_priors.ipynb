{
  "nbformat": 4,
  "nbformat_minor": 0,
  "metadata": {
    "colab": {
      "name": "randomized_priors.ipynb",
      "provenance": [],
      "authorship_tag": "ABX9TyN26C5q7EcvGwwngF5pNKys",
      "include_colab_link": true
    },
    "kernelspec": {
      "name": "python3",
      "display_name": "Python 3"
    },
    "language_info": {
      "name": "python"
    }
  },
  "cells": [
    {
      "cell_type": "markdown",
      "metadata": {
        "id": "view-in-github",
        "colab_type": "text"
      },
      "source": [
        "<a href=\"https://colab.research.google.com/github/peterchang0414/randomized_priors/blob/main/randomized_priors.ipynb\" target=\"_parent\"><img src=\"https://colab.research.google.com/assets/colab-badge.svg\" alt=\"Open In Colab\"/></a>"
      ]
    },
    {
      "cell_type": "markdown",
      "source": [
        "# Randomized Prior Functions for Deep Reinforcement Learning\n",
        "Based on Osband et al 2018: https://proceedings.neurips.cc/paper/2018/file/5a7b238ba0f6502e5d6be14424b20ded-Paper.pdf\n",
        "\n",
        "Adapted to JAX from https://www.kaggle.com/code/gdmarmerola/introduction-to-randomized-prior-functions/notebook\n",
        "\n",
        "Author: Peter G. Chang ([@peterchang0414](https://github.com/peterchang0414))"
      ],
      "metadata": {
        "id": "kMqLTceqie0u"
      }
    },
    {
      "cell_type": "code",
      "execution_count": null,
      "metadata": {
        "id": "_SqytCMaiMem"
      },
      "outputs": [],
      "source": [
        ""
      ]
    }
  ]
}